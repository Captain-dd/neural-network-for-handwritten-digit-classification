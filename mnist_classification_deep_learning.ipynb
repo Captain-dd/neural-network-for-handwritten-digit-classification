{
 "cells": [
  {
   "cell_type": "code",
   "execution_count": 1,
   "id": "282f4df0",
   "metadata": {
    "ExecuteTime": {
     "end_time": "2022-05-18T09:03:00.181625Z",
     "start_time": "2022-05-18T09:02:57.269416Z"
    }
   },
   "outputs": [],
   "source": [
    "import tensorflow as tf\n",
    "from tensorflow import keras\n",
    "import matplotlib.pyplot as plt\n",
    "\n",
    "import numpy as np"
   ]
  },
  {
   "cell_type": "code",
   "execution_count": 2,
   "id": "ba7709b9",
   "metadata": {
    "ExecuteTime": {
     "end_time": "2022-05-18T09:03:00.455777Z",
     "start_time": "2022-05-18T09:03:00.183618Z"
    }
   },
   "outputs": [],
   "source": [
    "# loading mnist data set from keras \n",
    "(X_train, y_train), (X_test, y_test) = keras.datasets.mnist.load_data()"
   ]
  },
  {
   "cell_type": "code",
   "execution_count": 3,
   "id": "2b10b830",
   "metadata": {
    "ExecuteTime": {
     "end_time": "2022-05-18T09:03:00.470732Z",
     "start_time": "2022-05-18T09:03:00.457768Z"
    }
   },
   "outputs": [
    {
     "data": {
      "text/plain": [
       "60000"
      ]
     },
     "execution_count": 3,
     "metadata": {},
     "output_type": "execute_result"
    }
   ],
   "source": [
    "len(X_train)"
   ]
  },
  {
   "cell_type": "code",
   "execution_count": 4,
   "id": "b7e47f97",
   "metadata": {
    "ExecuteTime": {
     "end_time": "2022-05-18T09:03:00.485693Z",
     "start_time": "2022-05-18T09:03:00.473750Z"
    }
   },
   "outputs": [
    {
     "data": {
      "text/plain": [
       "10000"
      ]
     },
     "execution_count": 4,
     "metadata": {},
     "output_type": "execute_result"
    }
   ],
   "source": [
    "len(X_test)"
   ]
  },
  {
   "cell_type": "code",
   "execution_count": 5,
   "id": "c9e78cd9",
   "metadata": {
    "ExecuteTime": {
     "end_time": "2022-05-18T09:03:00.501209Z",
     "start_time": "2022-05-18T09:03:00.488689Z"
    }
   },
   "outputs": [
    {
     "data": {
      "text/plain": [
       "(28, 28)"
      ]
     },
     "execution_count": 5,
     "metadata": {},
     "output_type": "execute_result"
    }
   ],
   "source": [
    " \n",
    "X_train[0].shape"
   ]
  },
  {
   "cell_type": "code",
   "execution_count": 6,
   "id": "3e48ab0e",
   "metadata": {
    "ExecuteTime": {
     "end_time": "2022-05-18T09:03:00.516166Z",
     "start_time": "2022-05-18T09:03:00.503201Z"
    }
   },
   "outputs": [
    {
     "data": {
      "text/plain": [
       "array([[  0,   0,   0,   0,   0,   0,   0,   0,   0,   0,   0,   0,   0,\n",
       "          0,   0,   0,   0,   0,   0,   0,   0,   0,   0,   0,   0,   0,\n",
       "          0,   0],\n",
       "       [  0,   0,   0,   0,   0,   0,   0,   0,   0,   0,   0,   0,   0,\n",
       "          0,   0,   0,   0,   0,   0,   0,   0,   0,   0,   0,   0,   0,\n",
       "          0,   0],\n",
       "       [  0,   0,   0,   0,   0,   0,   0,   0,   0,   0,   0,   0,   0,\n",
       "          0,   0,   0,   0,   0,   0,   0,   0,   0,   0,   0,   0,   0,\n",
       "          0,   0],\n",
       "       [  0,   0,   0,   0,   0,   0,   0,   0,   0,   0,   0,   0,   0,\n",
       "          0,   0,   0,   0,   0,   0,   0,   0,   0,   0,   0,   0,   0,\n",
       "          0,   0],\n",
       "       [  0,   0,   0,   0,   0,   0,   0,   0,   0,   0,   0,   0,   0,\n",
       "          0,   0,   0,   0,   0,   0,   0,   0,   0,   0,   0,   0,   0,\n",
       "          0,   0],\n",
       "       [  0,   0,   0,   0,   0,   0,   0,   0,   0,   0,   0,   0,   3,\n",
       "         18,  18,  18, 126, 136, 175,  26, 166, 255, 247, 127,   0,   0,\n",
       "          0,   0],\n",
       "       [  0,   0,   0,   0,   0,   0,   0,   0,  30,  36,  94, 154, 170,\n",
       "        253, 253, 253, 253, 253, 225, 172, 253, 242, 195,  64,   0,   0,\n",
       "          0,   0],\n",
       "       [  0,   0,   0,   0,   0,   0,   0,  49, 238, 253, 253, 253, 253,\n",
       "        253, 253, 253, 253, 251,  93,  82,  82,  56,  39,   0,   0,   0,\n",
       "          0,   0],\n",
       "       [  0,   0,   0,   0,   0,   0,   0,  18, 219, 253, 253, 253, 253,\n",
       "        253, 198, 182, 247, 241,   0,   0,   0,   0,   0,   0,   0,   0,\n",
       "          0,   0],\n",
       "       [  0,   0,   0,   0,   0,   0,   0,   0,  80, 156, 107, 253, 253,\n",
       "        205,  11,   0,  43, 154,   0,   0,   0,   0,   0,   0,   0,   0,\n",
       "          0,   0],\n",
       "       [  0,   0,   0,   0,   0,   0,   0,   0,   0,  14,   1, 154, 253,\n",
       "         90,   0,   0,   0,   0,   0,   0,   0,   0,   0,   0,   0,   0,\n",
       "          0,   0],\n",
       "       [  0,   0,   0,   0,   0,   0,   0,   0,   0,   0,   0, 139, 253,\n",
       "        190,   2,   0,   0,   0,   0,   0,   0,   0,   0,   0,   0,   0,\n",
       "          0,   0],\n",
       "       [  0,   0,   0,   0,   0,   0,   0,   0,   0,   0,   0,  11, 190,\n",
       "        253,  70,   0,   0,   0,   0,   0,   0,   0,   0,   0,   0,   0,\n",
       "          0,   0],\n",
       "       [  0,   0,   0,   0,   0,   0,   0,   0,   0,   0,   0,   0,  35,\n",
       "        241, 225, 160, 108,   1,   0,   0,   0,   0,   0,   0,   0,   0,\n",
       "          0,   0],\n",
       "       [  0,   0,   0,   0,   0,   0,   0,   0,   0,   0,   0,   0,   0,\n",
       "         81, 240, 253, 253, 119,  25,   0,   0,   0,   0,   0,   0,   0,\n",
       "          0,   0],\n",
       "       [  0,   0,   0,   0,   0,   0,   0,   0,   0,   0,   0,   0,   0,\n",
       "          0,  45, 186, 253, 253, 150,  27,   0,   0,   0,   0,   0,   0,\n",
       "          0,   0],\n",
       "       [  0,   0,   0,   0,   0,   0,   0,   0,   0,   0,   0,   0,   0,\n",
       "          0,   0,  16,  93, 252, 253, 187,   0,   0,   0,   0,   0,   0,\n",
       "          0,   0],\n",
       "       [  0,   0,   0,   0,   0,   0,   0,   0,   0,   0,   0,   0,   0,\n",
       "          0,   0,   0,   0, 249, 253, 249,  64,   0,   0,   0,   0,   0,\n",
       "          0,   0],\n",
       "       [  0,   0,   0,   0,   0,   0,   0,   0,   0,   0,   0,   0,   0,\n",
       "          0,  46, 130, 183, 253, 253, 207,   2,   0,   0,   0,   0,   0,\n",
       "          0,   0],\n",
       "       [  0,   0,   0,   0,   0,   0,   0,   0,   0,   0,   0,   0,  39,\n",
       "        148, 229, 253, 253, 253, 250, 182,   0,   0,   0,   0,   0,   0,\n",
       "          0,   0],\n",
       "       [  0,   0,   0,   0,   0,   0,   0,   0,   0,   0,  24, 114, 221,\n",
       "        253, 253, 253, 253, 201,  78,   0,   0,   0,   0,   0,   0,   0,\n",
       "          0,   0],\n",
       "       [  0,   0,   0,   0,   0,   0,   0,   0,  23,  66, 213, 253, 253,\n",
       "        253, 253, 198,  81,   2,   0,   0,   0,   0,   0,   0,   0,   0,\n",
       "          0,   0],\n",
       "       [  0,   0,   0,   0,   0,   0,  18, 171, 219, 253, 253, 253, 253,\n",
       "        195,  80,   9,   0,   0,   0,   0,   0,   0,   0,   0,   0,   0,\n",
       "          0,   0],\n",
       "       [  0,   0,   0,   0,  55, 172, 226, 253, 253, 253, 253, 244, 133,\n",
       "         11,   0,   0,   0,   0,   0,   0,   0,   0,   0,   0,   0,   0,\n",
       "          0,   0],\n",
       "       [  0,   0,   0,   0, 136, 253, 253, 253, 212, 135, 132,  16,   0,\n",
       "          0,   0,   0,   0,   0,   0,   0,   0,   0,   0,   0,   0,   0,\n",
       "          0,   0],\n",
       "       [  0,   0,   0,   0,   0,   0,   0,   0,   0,   0,   0,   0,   0,\n",
       "          0,   0,   0,   0,   0,   0,   0,   0,   0,   0,   0,   0,   0,\n",
       "          0,   0],\n",
       "       [  0,   0,   0,   0,   0,   0,   0,   0,   0,   0,   0,   0,   0,\n",
       "          0,   0,   0,   0,   0,   0,   0,   0,   0,   0,   0,   0,   0,\n",
       "          0,   0],\n",
       "       [  0,   0,   0,   0,   0,   0,   0,   0,   0,   0,   0,   0,   0,\n",
       "          0,   0,   0,   0,   0,   0,   0,   0,   0,   0,   0,   0,   0,\n",
       "          0,   0]], dtype=uint8)"
      ]
     },
     "execution_count": 6,
     "metadata": {},
     "output_type": "execute_result"
    }
   ],
   "source": [
    "X_train[0]"
   ]
  },
  {
   "cell_type": "code",
   "execution_count": 7,
   "id": "a2301e00",
   "metadata": {
    "ExecuteTime": {
     "end_time": "2022-05-18T09:03:00.667595Z",
     "start_time": "2022-05-18T09:03:00.518161Z"
    }
   },
   "outputs": [],
   "source": [
    "\n",
    "X_train = X_train / 255\n",
    "X_test = X_test /255"
   ]
  },
  {
   "cell_type": "code",
   "execution_count": 8,
   "id": "ac89dcbc",
   "metadata": {
    "ExecuteTime": {
     "end_time": "2022-05-18T09:03:00.682556Z",
     "start_time": "2022-05-18T09:03:00.668592Z"
    }
   },
   "outputs": [],
   "source": [
    "# flatting matrix into 1d array\n",
    "X_train_flatten = X_train.reshape(len(X_train), 28*28)\n",
    "X_test_flatten = X_test.reshape(len(X_test), 28*28)"
   ]
  },
  {
   "cell_type": "code",
   "execution_count": 9,
   "id": "7f3f7108",
   "metadata": {
    "ExecuteTime": {
     "end_time": "2022-05-18T09:03:00.698010Z",
     "start_time": "2022-05-18T09:03:00.684550Z"
    }
   },
   "outputs": [
    {
     "data": {
      "text/plain": [
       "(60000, 784)"
      ]
     },
     "execution_count": 9,
     "metadata": {},
     "output_type": "execute_result"
    }
   ],
   "source": [
    "X_train_flatten.shape"
   ]
  },
  {
   "cell_type": "code",
   "execution_count": 10,
   "id": "2651e326",
   "metadata": {
    "ExecuteTime": {
     "end_time": "2022-05-18T09:03:00.713516Z",
     "start_time": "2022-05-18T09:03:00.699604Z"
    }
   },
   "outputs": [
    {
     "data": {
      "text/plain": [
       "(784,)"
      ]
     },
     "execution_count": 10,
     "metadata": {},
     "output_type": "execute_result"
    }
   ],
   "source": [
    "X_train_flatten[0].shape"
   ]
  },
  {
   "cell_type": "code",
   "execution_count": 11,
   "id": "2e757be9",
   "metadata": {
    "ExecuteTime": {
     "end_time": "2022-05-18T09:03:00.728475Z",
     "start_time": "2022-05-18T09:03:00.715510Z"
    }
   },
   "outputs": [
    {
     "data": {
      "text/plain": [
       "array([[0., 0., 0., ..., 0., 0., 0.],\n",
       "       [0., 0., 0., ..., 0., 0., 0.],\n",
       "       [0., 0., 0., ..., 0., 0., 0.],\n",
       "       ...,\n",
       "       [0., 0., 0., ..., 0., 0., 0.],\n",
       "       [0., 0., 0., ..., 0., 0., 0.],\n",
       "       [0., 0., 0., ..., 0., 0., 0.]])"
      ]
     },
     "execution_count": 11,
     "metadata": {},
     "output_type": "execute_result"
    }
   ],
   "source": [
    "X_train_flatten"
   ]
  },
  {
   "cell_type": "markdown",
   "id": "051c769e",
   "metadata": {},
   "source": [
    "# simple neural network"
   ]
  },
  {
   "cell_type": "code",
   "execution_count": 12,
   "id": "f87cc5ba",
   "metadata": {
    "ExecuteTime": {
     "end_time": "2022-05-18T09:03:01.387876Z",
     "start_time": "2022-05-18T09:03:00.731049Z"
    },
    "code_folding": []
   },
   "outputs": [],
   "source": [
    "# neural network with input layer and output layer and no hidden layer\n",
    "model = keras.Sequential([\n",
    "    keras.layers.Dense(10, input_shape = (784,), activation='sigmoid')\n",
    "    \n",
    "    \n",
    "])\n",
    "\n"
   ]
  },
  {
   "cell_type": "code",
   "execution_count": 13,
   "id": "90d6c6f6",
   "metadata": {
    "ExecuteTime": {
     "end_time": "2022-05-18T09:03:01.402737Z",
     "start_time": "2022-05-18T09:03:01.388873Z"
    }
   },
   "outputs": [],
   "source": [
    "\n",
    "model.compile(\n",
    "    optimizer='adam',\n",
    "    loss='sparse_categorical_crossentropy',\n",
    "    metrics='accuracy')"
   ]
  },
  {
   "cell_type": "code",
   "execution_count": 14,
   "id": "50905619",
   "metadata": {
    "ExecuteTime": {
     "end_time": "2022-05-18T09:03:35.250355Z",
     "start_time": "2022-05-18T09:03:01.404731Z"
    }
   },
   "outputs": [
    {
     "name": "stdout",
     "output_type": "stream",
     "text": [
      "Epoch 1/10\n",
      "1875/1875 [==============================] - 4s 2ms/step - loss: 0.4711 - accuracy: 0.8773\n",
      "Epoch 2/10\n",
      "1875/1875 [==============================] - 3s 2ms/step - loss: 0.3042 - accuracy: 0.9151\n",
      "Epoch 3/10\n",
      "1875/1875 [==============================] - 3s 2ms/step - loss: 0.2832 - accuracy: 0.9211\n",
      "Epoch 4/10\n",
      "1875/1875 [==============================] - 3s 2ms/step - loss: 0.2736 - accuracy: 0.9235\n",
      "Epoch 5/10\n",
      "1875/1875 [==============================] - 4s 2ms/step - loss: 0.2667 - accuracy: 0.9258\n",
      "Epoch 6/10\n",
      "1875/1875 [==============================] - 4s 2ms/step - loss: 0.2619 - accuracy: 0.9279\n",
      "Epoch 7/10\n",
      "1875/1875 [==============================] - 3s 2ms/step - loss: 0.2580 - accuracy: 0.9285\n",
      "Epoch 8/10\n",
      "1875/1875 [==============================] - 3s 2ms/step - loss: 0.2555 - accuracy: 0.9298\n",
      "Epoch 9/10\n",
      "1875/1875 [==============================] - 3s 2ms/step - loss: 0.2535 - accuracy: 0.9294\n",
      "Epoch 10/10\n",
      "1875/1875 [==============================] - 3s 2ms/step - loss: 0.2509 - accuracy: 0.9307\n"
     ]
    },
    {
     "data": {
      "text/plain": [
       "<keras.callbacks.History at 0x29c2b994df0>"
      ]
     },
     "execution_count": 14,
     "metadata": {},
     "output_type": "execute_result"
    }
   ],
   "source": [
    "model.fit(X_train_flatten, y_train, epochs=10)"
   ]
  },
  {
   "cell_type": "code",
   "execution_count": 15,
   "id": "4b36aafc",
   "metadata": {
    "ExecuteTime": {
     "end_time": "2022-05-18T09:03:35.964549Z",
     "start_time": "2022-05-18T09:03:35.252284Z"
    }
   },
   "outputs": [
    {
     "name": "stdout",
     "output_type": "stream",
     "text": [
      "313/313 [==============================] - 1s 2ms/step - loss: 0.2682 - accuracy: 0.9251\n"
     ]
    },
    {
     "data": {
      "text/plain": [
       "[0.2681827247142792, 0.9251000285148621]"
      ]
     },
     "execution_count": 15,
     "metadata": {},
     "output_type": "execute_result"
    }
   ],
   "source": [
    "model.evaluate( X_test_flatten, y_test)"
   ]
  },
  {
   "cell_type": "code",
   "execution_count": 16,
   "id": "b0414e26",
   "metadata": {
    "ExecuteTime": {
     "end_time": "2022-05-18T09:03:36.306920Z",
     "start_time": "2022-05-18T09:03:35.965544Z"
    }
   },
   "outputs": [],
   "source": [
    "y_predict = model.predict(X_test_flatten)"
   ]
  },
  {
   "cell_type": "code",
   "execution_count": 17,
   "id": "589cae68",
   "metadata": {
    "ExecuteTime": {
     "end_time": "2022-05-18T09:03:36.321867Z",
     "start_time": "2022-05-18T09:03:36.308906Z"
    }
   },
   "outputs": [
    {
     "data": {
      "text/plain": [
       "array([[3.0156604e-03, 1.6000110e-08, 1.2398543e-02, ..., 9.9986994e-01,\n",
       "        5.7689894e-02, 6.7185086e-01],\n",
       "       [3.9579055e-01, 5.0317096e-03, 9.9960715e-01, ..., 1.6831518e-15,\n",
       "        5.6953318e-02, 3.3826392e-12],\n",
       "       [1.3661206e-04, 9.9360633e-01, 6.4059907e-01, ..., 3.5474841e-02,\n",
       "        3.0886018e-01, 3.7545562e-02],\n",
       "       ...,\n",
       "       [8.0686203e-07, 4.0822121e-07, 4.1472804e-04, ..., 1.3965520e-01,\n",
       "        3.7246278e-01, 8.1934136e-01],\n",
       "       [1.3983200e-05, 5.1052666e-05, 1.6657552e-05, ..., 8.3877949e-06,\n",
       "        5.2950209e-01, 2.0786994e-05],\n",
       "       [1.9347931e-03, 1.9277455e-11, 1.1288361e-01, ..., 2.6118840e-11,\n",
       "        2.1403859e-05, 1.8870580e-08]], dtype=float32)"
      ]
     },
     "execution_count": 17,
     "metadata": {},
     "output_type": "execute_result"
    }
   ],
   "source": [
    "# y_predict consist of probability score of query image belonging to a class\n",
    "y_predict"
   ]
  },
  {
   "cell_type": "code",
   "execution_count": 18,
   "id": "2b7663ab",
   "metadata": {
    "ExecuteTime": {
     "end_time": "2022-05-18T09:03:36.337128Z",
     "start_time": "2022-05-18T09:03:36.323863Z"
    }
   },
   "outputs": [
    {
     "data": {
      "text/plain": [
       "2"
      ]
     },
     "execution_count": 18,
     "metadata": {},
     "output_type": "execute_result"
    }
   ],
   "source": [
    "\n",
    "np.argmax(y_predict[1])"
   ]
  },
  {
   "cell_type": "code",
   "execution_count": 19,
   "id": "8de65500",
   "metadata": {
    "ExecuteTime": {
     "end_time": "2022-05-18T09:03:36.368530Z",
     "start_time": "2022-05-18T09:03:36.338126Z"
    }
   },
   "outputs": [
    {
     "data": {
      "text/plain": [
       "[7, 2, 1, 0, 4]"
      ]
     },
     "execution_count": 19,
     "metadata": {},
     "output_type": "execute_result"
    }
   ],
   "source": [
    "# we are finding max probability score for any class a image belongs to\n",
    "y_predict_label = [np.argmax(i) for i in y_predict ]\n",
    "y_predict_label[:5]"
   ]
  },
  {
   "cell_type": "code",
   "execution_count": 20,
   "id": "1bc85876",
   "metadata": {
    "ExecuteTime": {
     "end_time": "2022-05-18T09:03:36.384253Z",
     "start_time": "2022-05-18T09:03:36.370288Z"
    }
   },
   "outputs": [
    {
     "data": {
      "text/plain": [
       "<tf.Tensor: shape=(10, 10), dtype=int32, numpy=\n",
       "array([[ 961,    0,    1,    2,    0,    6,    6,    3,    1,    0],\n",
       "       [   0, 1117,    3,    2,    0,    1,    4,    2,    6,    0],\n",
       "       [   6,    9,  927,   20,    9,    4,   13,    9,   31,    4],\n",
       "       [   3,    0,   14,  932,    1,   26,    3,    9,   13,    9],\n",
       "       [   1,    2,    3,    2,  916,    0,   10,    4,    6,   38],\n",
       "       [  10,    2,    2,   33,   10,  784,   12,    8,   24,    7],\n",
       "       [  10,    3,    7,    1,    8,   14,  911,    2,    2,    0],\n",
       "       [   1,    6,   23,   10,   10,    1,    0,  940,    1,   36],\n",
       "       [   9,   13,    6,   34,    9,   38,    8,   10,  828,   19],\n",
       "       [  11,    7,    1,   13,   23,    4,    0,   13,    2,  935]])>"
      ]
     },
     "execution_count": 20,
     "metadata": {},
     "output_type": "execute_result"
    }
   ],
   "source": [
    "# confusion matrix\n",
    "cm = tf.math.confusion_matrix(predictions= y_predict_label, labels = y_test)\n",
    "cm"
   ]
  },
  {
   "cell_type": "code",
   "execution_count": 21,
   "id": "f2e86285",
   "metadata": {
    "ExecuteTime": {
     "end_time": "2022-05-18T09:03:37.068096Z",
     "start_time": "2022-05-18T09:03:36.386248Z"
    },
    "scrolled": false
   },
   "outputs": [
    {
     "data": {
      "text/plain": [
       "Text(69.0, 0.5, 'Truth')"
      ]
     },
     "execution_count": 21,
     "metadata": {},
     "output_type": "execute_result"
    },
    {
     "data": {
      "image/png": "[encoded data removed]",
      "text/plain": [
       "<Figure size 720x720 with 2 Axes>"
      ]
     },
     "metadata": {
      "needs_background": "light"
     },
     "output_type": "display_data"
    }
   ],
   "source": [
    "import seaborn as sn\n",
    "\n",
    "plt.figure(figsize=(10,10))\n",
    "sn.heatmap(cm, annot=True, fmt='d')\n",
    "plt.xlabel('Predicted')\n",
    "plt.ylabel('Truth')"
   ]
  },
  {
   "cell_type": "markdown",
   "id": "839f2352",
   "metadata": {},
   "source": [
    "# model with hidden layer"
   ]
  },
  {
   "cell_type": "code",
   "execution_count": 31,
   "id": "9cb7ee4f",
   "metadata": {
    "ExecuteTime": {
     "end_time": "2022-05-18T09:06:30.406654Z",
     "start_time": "2022-05-18T09:06:30.375049Z"
    }
   },
   "outputs": [],
   "source": [
    "# dense neural network with input layer two hidden layer and output layer\n",
    "# this neural network will increse the accuracy\n",
    "\n",
    "model = keras.Sequential([\n",
    "    keras.layers.Dense(100, input_shape=(784,), activation='relu'),\n",
    "    keras.layers.Dense(50, activation='relu'),\n",
    "    keras.layers.Dense(10, activation='sigmoid')\n",
    "])"
   ]
  },
  {
   "cell_type": "code",
   "execution_count": 32,
   "id": "444390dd",
   "metadata": {
    "ExecuteTime": {
     "end_time": "2022-05-18T09:06:31.248172Z",
     "start_time": "2022-05-18T09:06:31.231256Z"
    }
   },
   "outputs": [],
   "source": [
    "model.compile(\n",
    "    optimizer='adam',\n",
    "    loss='sparse_categorical_crossentropy',\n",
    "    metrics='accuracy')\n",
    "\n"
   ]
  },
  {
   "cell_type": "code",
   "execution_count": 33,
   "id": "3819105e",
   "metadata": {
    "ExecuteTime": {
     "end_time": "2022-05-18T09:07:25.852605Z",
     "start_time": "2022-05-18T09:06:31.896058Z"
    },
    "scrolled": true
   },
   "outputs": [
    {
     "name": "stdout",
     "output_type": "stream",
     "text": [
      "Epoch 1/10\n",
      "1875/1875 [==============================] - 6s 3ms/step - loss: 0.2530 - accuracy: 0.9261\n",
      "Epoch 2/10\n",
      "1875/1875 [==============================] - 5s 3ms/step - loss: 0.1093 - accuracy: 0.9673\n",
      "Epoch 3/10\n",
      "1875/1875 [==============================] - 5s 3ms/step - loss: 0.0770 - accuracy: 0.9754\n",
      "Epoch 4/10\n",
      "1875/1875 [==============================] - 5s 3ms/step - loss: 0.0613 - accuracy: 0.9809\n",
      "Epoch 5/10\n",
      "1875/1875 [==============================] - 5s 3ms/step - loss: 0.0487 - accuracy: 0.9843\n",
      "Epoch 6/10\n",
      "1875/1875 [==============================] - 5s 3ms/step - loss: 0.0409 - accuracy: 0.9866\n",
      "Epoch 7/10\n",
      "1875/1875 [==============================] - 5s 3ms/step - loss: 0.0334 - accuracy: 0.9889\n",
      "Epoch 8/10\n",
      "1875/1875 [==============================] - 5s 3ms/step - loss: 0.0285 - accuracy: 0.9903\n",
      "Epoch 9/10\n",
      "1875/1875 [==============================] - 5s 3ms/step - loss: 0.0257 - accuracy: 0.9913\n",
      "Epoch 10/10\n",
      "1875/1875 [==============================] - 5s 3ms/step - loss: 0.0234 - accuracy: 0.9924\n"
     ]
    },
    {
     "data": {
      "text/plain": [
       "<keras.callbacks.History at 0x29d1ab55100>"
      ]
     },
     "execution_count": 33,
     "metadata": {},
     "output_type": "execute_result"
    }
   ],
   "source": [
    "model.fit(X_train_flatten, y_train,epochs=10)"
   ]
  },
  {
   "cell_type": "code",
   "execution_count": 34,
   "id": "a2b556f1",
   "metadata": {
    "ExecuteTime": {
     "end_time": "2022-05-18T09:07:36.703005Z",
     "start_time": "2022-05-18T09:07:35.758109Z"
    }
   },
   "outputs": [
    {
     "name": "stdout",
     "output_type": "stream",
     "text": [
      "313/313 [==============================] - 1s 2ms/step - loss: 0.0935 - accuracy: 0.9755\n"
     ]
    },
    {
     "data": {
      "text/plain": [
       "[0.09350786358118057, 0.9754999876022339]"
      ]
     },
     "execution_count": 34,
     "metadata": {},
     "output_type": "execute_result"
    }
   ],
   "source": [
    "model.evaluate(X_test_flatten, y_test)"
   ]
  },
  {
   "cell_type": "code",
   "execution_count": 35,
   "id": "31f3e3a8",
   "metadata": {
    "ExecuteTime": {
     "end_time": "2022-05-18T09:07:41.062189Z",
     "start_time": "2022-05-18T09:07:40.492145Z"
    }
   },
   "outputs": [],
   "source": [
    "y_predict = model.predict(X_test_flatten)"
   ]
  },
  {
   "cell_type": "code",
   "execution_count": 36,
   "id": "ab60c801",
   "metadata": {
    "ExecuteTime": {
     "end_time": "2022-05-18T09:07:41.952359Z",
     "start_time": "2022-05-18T09:07:41.925718Z"
    }
   },
   "outputs": [],
   "source": [
    "y_predict_label = [np.argmax(i) for i in y_predict]"
   ]
  },
  {
   "cell_type": "code",
   "execution_count": 37,
   "id": "b1d7f73a",
   "metadata": {
    "ExecuteTime": {
     "end_time": "2022-05-18T09:07:43.446941Z",
     "start_time": "2022-05-18T09:07:43.419729Z"
    }
   },
   "outputs": [
    {
     "data": {
      "text/plain": [
       "<tf.Tensor: shape=(10, 10), dtype=int32, numpy=\n",
       "array([[ 957,    0,    4,    1,    2,    3,    4,    3,    1,    5],\n",
       "       [   0, 1121,    4,    1,    0,    0,    1,    1,    7,    0],\n",
       "       [   0,    1, 1006,    9,    0,    0,    2,    5,    9,    0],\n",
       "       [   1,    0,    6,  988,    0,    6,    0,    3,    2,    4],\n",
       "       [   1,    1,    5,    0,  958,    1,    2,    2,    0,   12],\n",
       "       [   2,    0,    1,    4,    1,  882,    1,    0,    0,    1],\n",
       "       [   3,    3,    1,    2,    3,   22,  921,    0,    3,    0],\n",
       "       [   0,    3,   14,    2,    1,    1,    0,  997,    3,    7],\n",
       "       [   4,    0,    5,    4,    2,   10,    1,    2,  942,    4],\n",
       "       [   1,    2,    0,    6,    9,    5,    2,    2,    0,  982]])>"
      ]
     },
     "execution_count": 37,
     "metadata": {},
     "output_type": "execute_result"
    }
   ],
   "source": [
    "cm = tf.math.confusion_matrix(predictions=y_predict_label, labels = y_test)\n",
    "cm"
   ]
  },
  {
   "cell_type": "code",
   "execution_count": 38,
   "id": "baa83f5c",
   "metadata": {
    "ExecuteTime": {
     "end_time": "2022-05-18T09:07:44.690057Z",
     "start_time": "2022-05-18T09:07:44.349376Z"
    }
   },
   "outputs": [
    {
     "data": {
      "text/plain": [
       "Text(69.0, 0.5, 'Truth')"
      ]
     },
     "execution_count": 38,
     "metadata": {},
     "output_type": "execute_result"
    },
    {
     "data": {
      "image/png": "[encoded data removed]",
      "text/plain": [
       "<Figure size 720x720 with 2 Axes>"
      ]
     },
     "metadata": {
      "needs_background": "light"
     },
     "output_type": "display_data"
    }
   ],
   "source": [
    "plt.figure(figsize=(10,10))\n",
    "sn.heatmap(cm, annot=True, fmt='d')\n",
    "plt.xlabel('Predicted')\n",
    "plt.ylabel('Truth')"
   ]
  },
  {
   "cell_type": "code",
   "execution_count": null,
   "id": "f823a3d2",
   "metadata": {},
   "outputs": [],
   "source": []
  },
  {
   "cell_type": "markdown",
   "id": "954f647d",
   "metadata": {},
   "source": [
    "# Dense neural network with flatten layer"
   ]
  },
  {
   "cell_type": "code",
   "execution_count": 39,
   "id": "d72014ae",
   "metadata": {
    "ExecuteTime": {
     "end_time": "2022-05-18T10:37:29.264541Z",
     "start_time": "2022-05-18T10:37:27.123947Z"
    }
   },
   "outputs": [],
   "source": [
    "model = keras.Sequential([\n",
    "    keras.layers.Flatten(input_shape = (28,28)),\n",
    "    keras.layers.Dense(200, activation='relu'),\n",
    "    keras.layers.Dense(10, activation='sigmoid')\n",
    "])"
   ]
  },
  {
   "cell_type": "code",
   "execution_count": 40,
   "id": "d429062a",
   "metadata": {
    "ExecuteTime": {
     "end_time": "2022-05-18T10:38:12.707913Z",
     "start_time": "2022-05-18T10:38:12.353030Z"
    }
   },
   "outputs": [],
   "source": [
    "model.compile(\n",
    "    optimizer='adam',\n",
    "    loss='sparse_categorical_crossentropy',\n",
    "    metrics=['accuracy'])"
   ]
  },
  {
   "cell_type": "code",
   "execution_count": 41,
   "id": "ea4fc395",
   "metadata": {
    "ExecuteTime": {
     "end_time": "2022-05-18T10:39:57.821877Z",
     "start_time": "2022-05-18T10:38:36.589830Z"
    }
   },
   "outputs": [
    {
     "name": "stdout",
     "output_type": "stream",
     "text": [
      "Epoch 1/10\n",
      "1875/1875 [==============================] - 8s 4ms/step - loss: 0.2363 - accuracy: 0.9321\n",
      "Epoch 2/10\n",
      "1875/1875 [==============================] - 7s 4ms/step - loss: 0.0999 - accuracy: 0.9698\n",
      "Epoch 3/10\n",
      "1875/1875 [==============================] - 7s 4ms/step - loss: 0.0666 - accuracy: 0.9795\n",
      "Epoch 4/10\n",
      "1875/1875 [==============================] - 8s 4ms/step - loss: 0.0480 - accuracy: 0.9852\n",
      "Epoch 5/10\n",
      "1875/1875 [==============================] - 7s 4ms/step - loss: 0.0375 - accuracy: 0.9882\n",
      "Epoch 6/10\n",
      "1875/1875 [==============================] - 7s 4ms/step - loss: 0.0279 - accuracy: 0.9912\n",
      "Epoch 7/10\n",
      "1875/1875 [==============================] - 9s 5ms/step - loss: 0.0222 - accuracy: 0.9928\n",
      "Epoch 8/10\n",
      "1875/1875 [==============================] - 9s 5ms/step - loss: 0.0177 - accuracy: 0.9943\n",
      "Epoch 9/10\n",
      "1875/1875 [==============================] - 9s 5ms/step - loss: 0.0143 - accuracy: 0.9954\n",
      "Epoch 10/10\n",
      "1875/1875 [==============================] - 9s 5ms/step - loss: 0.0127 - accuracy: 0.9960\n"
     ]
    },
    {
     "data": {
      "text/plain": [
       "<keras.callbacks.History at 0x29d1d124310>"
      ]
     },
     "execution_count": 41,
     "metadata": {},
     "output_type": "execute_result"
    }
   ],
   "source": [
    "model.fit(X_train, y_train, epochs=10)"
   ]
  },
  {
   "cell_type": "code",
   "execution_count": 42,
   "id": "be038aa0",
   "metadata": {
    "ExecuteTime": {
     "end_time": "2022-05-18T10:39:59.274641Z",
     "start_time": "2022-05-18T10:39:57.829916Z"
    }
   },
   "outputs": [
    {
     "name": "stdout",
     "output_type": "stream",
     "text": [
      "313/313 [==============================] - 1s 4ms/step - loss: 0.0904 - accuracy: 0.9772\n"
     ]
    },
    {
     "data": {
      "text/plain": [
       "[0.09035593271255493, 0.9771999716758728]"
      ]
     },
     "execution_count": 42,
     "metadata": {},
     "output_type": "execute_result"
    }
   ],
   "source": [
    "model.evaluate(X_test, y_test)"
   ]
  },
  {
   "cell_type": "code",
   "execution_count": null,
   "id": "b5cf4809",
   "metadata": {},
   "outputs": [],
   "source": []
  }
 ],
 "metadata": {
  "kernelspec": {
   "display_name": "Python 3 (ipykernel)",
   "language": "python",
   "name": "python3"
  },
  "language_info": {
   "codemirror_mode": {
    "name": "ipython",
    "version": 3
   },
   "file_extension": ".py",
   "mimetype": "text/x-python",
   "name": "python",
   "nbconvert_exporter": "python",
   "pygments_lexer": "ipython3",
   "version": "3.8.9"
  },
  "toc": {
   "base_numbering": 1,
   "nav_menu": {},
   "number_sections": true,
   "sideBar": true,
   "skip_h1_title": false,
   "title_cell": "Table of Contents",
   "title_sidebar": "Contents",
   "toc_cell": false,
   "toc_position": {},
   "toc_section_display": true,
   "toc_window_display": false
  }
 },
 "nbformat": 4,
 "nbformat_minor": 5
}
